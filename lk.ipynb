{
 "cells": [
  {
   "cell_type": "code",
   "execution_count": null,
   "metadata": {},
   "outputs": [],
   "source": []
  }
 ],
 "metadata": {
  "interpreter": {
   "hash": "a9caddf5fa25d93c1c020098af4c4bc9421eab5b95cd3a69b0bbc2e9040d44fe"
  },
  "kernelspec": {
   "display_name": "Python 3.10.2 ('lightk')",
   "language": "python",
   "name": "python3"
  },
  "language_info": {
   "name": "python",
   "version": "3.10.2"
  },
  "orig_nbformat": 4
 },
 "nbformat": 4,
 "nbformat_minor": 2
}
